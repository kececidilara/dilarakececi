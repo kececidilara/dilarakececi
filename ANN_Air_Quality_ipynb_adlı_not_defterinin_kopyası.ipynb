{
  "nbformat": 4,
  "nbformat_minor": 0,
  "metadata": {
    "colab": {
      "name": "ANN Air Quality.ipynb adlı not defterinin kopyası",
      "provenance": [],
      "collapsed_sections": [],
      "include_colab_link": true
    },
    "kernelspec": {
      "name": "python3",
      "display_name": "Python 3"
    },
    "language_info": {
      "name": "python"
    }
  },
  "cells": [
    {
      "cell_type": "markdown",
      "metadata": {
        "id": "view-in-github",
        "colab_type": "text"
      },
      "source": [
        "<a href=\"https://colab.research.google.com/github/kececidilara/kececidilara.github.io/blob/master/ANN_Air_Quality_ipynb_adl%C4%B1_not_defterinin_kopyas%C4%B1.ipynb\" target=\"_parent\"><img src=\"https://colab.research.google.com/assets/colab-badge.svg\" alt=\"Open In Colab\"/></a>"
      ]
    },
    {
      "cell_type": "code",
      "metadata": {
        "id": "edOzjEtj7fCB"
      },
      "source": [
        "import torch\n",
        "from torch.autograd import Variable\n",
        "import torch.nn.functional as F\n",
        "import torch.utils.data as Data\n",
        "import numpy as np"
      ],
      "execution_count": 1,
      "outputs": []
    },
    {
      "cell_type": "code",
      "metadata": {
        "id": "Ca7psVaV_9lW"
      },
      "source": [
        "from csv import reader\n",
        "import math\n",
        "print(\"pm2.5\")\n",
        "datasetpm25 = []\n",
        "\n",
        "with open('pm2.5try.csv', 'r') as file:\n",
        "    csv_reader = reader(file, delimiter=\";\")\n",
        "    for row in csv_reader:\n",
        "        if not row:\n",
        "            continue\n",
        "        arr = [row[0], row[1], row[2], row[3], row[4], row[5],row[6], row[7], row[8], row[9], row[10]]\n",
        "        datasetpm25.append(arr)\n",
        "        for i in datasetpm25:\n",
        "            print(i)\n",
        "\n",
        "print(\"NO2\")\n",
        "\n",
        "datasetno2 = []\n",
        "with open('NO2 normalization.csv', 'r') as file:\n",
        "    csv_reader = reader(file,  delimiter=\";\")\n",
        "    for row in csv_reader:\n",
        "        if not row:\n",
        "            continue\n",
        "        arr = [row[0], row[1], row[2], row[3], row[4], row[5],row[6], row[7], row[8], row[9], row[10]]\n",
        "        datasetno2.append(arr)\n",
        "        for i in datasetno2:\n",
        "            print(i)\n",
        "\n",
        "print(\"O3\")\n",
        "dataseto3 = []\n",
        "with open('O3normalization.csv', 'r') as file:\n",
        "    csv_reader = reader(file,  delimiter=\";\")\n",
        "    for row in csv_reader:\n",
        "        if not row:\n",
        "            continue\n",
        "        arr = [row[0], row[1], row[2], row[3], row[4], row[5],row[6], row[7], row[8], row[9], row[10]]\n",
        "        dataseto3.append(arr)\n",
        "        for i in dataseto3:\n",
        "            print(i)\n",
        "print(\"PM2.5\")\n",
        "\n",
        "\n",
        "\n",
        "data_xpm25 = []\n",
        "data_ypm25 = []\n",
        "city = 0\n",
        "#pm2.5\n",
        "for index in range(len(datasetpm25[city])-5):\n",
        "  data_xpm25.append(datasetpm25[city][index+1:index+5])\n",
        "  data_ypm25.append(datasetpm25[city][index+5])\n",
        "\n",
        "print(data_xpm25)\n",
        "print(data_ypm25)\n"
      ],
      "execution_count": null,
      "outputs": []
    },
    {
      "cell_type": "code",
      "metadata": {
        "id": "B-Qd2PKoBiUZ"
      },
      "source": [
        "x = np.array(data_xpm25).astype(float)\n",
        "y = np.array(data_ypm25).astype(float)"
      ],
      "execution_count": null,
      "outputs": []
    },
    {
      "cell_type": "code",
      "metadata": {
        "id": "ZAgQez5DAwbx",
        "colab": {
          "base_uri": "https://localhost:8080/"
        },
        "outputId": "2f8a071e-063f-42e2-ff81-70439f1ab306"
      },
      "source": [
        "net = torch.nn.Sequential(\n",
        "        torch.nn.Linear(4, 200),\n",
        "        torch.nn.LeakyReLU(),\n",
        "        torch.nn.Linear(200, 100),\n",
        "        torch.nn.LeakyReLU(),\n",
        "        torch.nn.Linear(100, 1),\n",
        "    )\n",
        "\n",
        "optimizer = torch.optim.Adam(net.parameters(), lr=0.001)\n",
        "loss_func = torch.nn.MSELoss()  # this is for regression mean squared loss\n",
        "\n",
        "BATCH_SIZE = 1\n",
        "EPOCH = 200\n",
        "\n",
        "x = torch.FloatTensor(x)\n",
        "y = torch.FloatTensor(y)\n",
        "\n",
        "torch_dataset = Data.TensorDataset(x, y)\n",
        "\n",
        "loader = Data.DataLoader(\n",
        "    dataset=torch_dataset, \n",
        "    batch_size=BATCH_SIZE, \n",
        "    shuffle=True, num_workers=2,)\n",
        "\n",
        "loss_values = []\n",
        "\n",
        "# start training\n",
        "for epoch in range(EPOCH):\n",
        "    for step, (batch_x, batch_y) in enumerate(loader): # for each training step\n",
        "        \n",
        "        b_x = Variable(batch_x)\n",
        "        b_y = Variable(batch_y)\n",
        "\n",
        "        prediction = net(b_x)     # input x and predict based on x\n",
        "\n",
        "        loss = loss_func(prediction, b_y)     # must be (1. nn output, 2. target)\n",
        "\n",
        "        optimizer.zero_grad()   # clear gradients for next train\n",
        "        loss.backward()         # backpropagation, compute gradients\n",
        "        optimizer.step()        # apply gradients\n",
        "        loss_values.append(loss)"
      ],
      "execution_count": null,
      "outputs": [
        {
          "output_type": "stream",
          "text": [
            "/usr/local/lib/python3.7/dist-packages/torch/nn/modules/loss.py:528: UserWarning: Using a target size (torch.Size([1])) that is different to the input size (torch.Size([1, 1])). This will likely lead to incorrect results due to broadcasting. Please ensure they have the same size.\n",
            "  return F.mse_loss(input, target, reduction=self.reduction)\n"
          ],
          "name": "stderr"
        }
      ]
    },
    {
      "cell_type": "code",
      "metadata": {
        "id": "23GZU0-DF1MR",
        "colab": {
          "base_uri": "https://localhost:8080/",
          "height": 295
        },
        "outputId": "a3b976f2-adb2-4f80-87ec-efdc5511dfff"
      },
      "source": [
        "import matplotlib.pyplot as plt\n",
        "plt.plot(loss_values)\n",
        "plt.title('Learning Curve')\n",
        "plt.xlabel('Step')\n",
        "plt.ylabel('Loss')\n",
        "plt.grid('on')"
      ],
      "execution_count": null,
      "outputs": [
        {
          "output_type": "display_data",
          "data": {
            "image/png": "[encoded data removed]",
            "text/plain": [
              "<Figure size 432x288 with 1 Axes>"
            ]
          },
          "metadata": {
            "tags": [],
            "needs_background": "light"
          }
        }
      ]
    },
    {
      "cell_type": "code",
      "metadata": {
        "id": "SlQfcQBcGGyh",
        "colab": {
          "base_uri": "https://localhost:8080/",
          "height": 298
        },
        "outputId": "e48d983a-4485-4216-962b-95bc6a4dccfb"
      },
      "source": [
        "def invert_normalization(prediction,max,min):\n",
        "  return prediction*(max-min)+min \n",
        "\n",
        "def normalize(arr,max,min):\n",
        "  return [(value-min)/(max-min) for value in arr ]\n",
        "\n",
        "def predict(arr,max,min,n_year):\n",
        "  predictions = []\n",
        "  for year in range(n_year):\n",
        "\n",
        "    arr_normalized = np.array(normalize(arr,max,min))\n",
        "    arr_tensor = torch.FloatTensor(arr_normalized)\n",
        "    prediction_normalized = net(arr_tensor)\n",
        "    prediction = invert_normalization(prediction_normalized,max,min)\n",
        "    predictions.append(float(prediction))\n",
        "    arr = arr[1:]\n",
        "    arr.append(float(prediction))\n",
        "  return predictions\n",
        "\n",
        "max = 11.05\n",
        "min = 7.25\n",
        "test = [9.24, 7.75, 7.72, 7.25]\n",
        "predictions = predict(test,max,min,5)\n",
        "print(predictions)\n",
        "\n",
        "import matplotlib.pyplot as plt\n",
        "plt.plot(test + predictions)\n",
        "plt.title('Learning Curve')\n",
        "plt.ylabel('PM25')\n",
        "plt.grid('on')\n"
      ],
      "execution_count": null,
      "outputs": [
        {
          "output_type": "stream",
          "text": [
            "[6.627378940582275, 5.535835266113281, 4.968212127685547, 3.967571496963501, 2.7889747619628906]\n"
          ],
          "name": "stdout"
        },
        {
          "output_type": "display_data",
          "data": {
            "image/png": "[encoded data removed]",
            "text/plain": [
              "<Figure size 432x288 with 1 Axes>"
            ]
          },
          "metadata": {
            "tags": [],
            "needs_background": "light"
          }
        }
      ]
    }
  ]
}